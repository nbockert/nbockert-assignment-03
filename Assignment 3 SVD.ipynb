{
 "cells": [
  {
   "cell_type": "markdown",
   "id": "245217cc",
   "metadata": {},
   "source": [
    "# Assignment: SVD Preprocessing on MNIST with Logistic Regression"
   ]
  },
  {
   "cell_type": "markdown",
   "id": "deffa444",
   "metadata": {},
   "source": [
    "## Instructions:\n",
    "In this assignment, you will apply **Singular Value Decomposition (SVD)** as a preprocessing step to the **MNIST dataset** and train a **logistic regression classifier**. You will compare the model performance and training time when using different levels of SVD for dimensionality reduction.\n",
    "\n",
    "In this assignment, you will need to:\n",
    "1. Load the MNIST dataset and normalize it.\n",
    "2. Perform SVD and reduce the dimensions of the data.\n",
    "3. Train a logistic regression model on the original and SVD-reduced data.\n",
    "4. Measure and compare the training time and accuracy of the model with varying SVD components.\n",
    "5. Plot the results and analyze how SVD impacts the performance and efficiency of the model.\n",
    "\n",
    "***\n",
    "Your tasks include:\n",
    "1. Implement SVD algorithm. You are not allowed to directly use SVD implemented by other packages, but you may use functions in NumPy. (Part 2)\n",
    "2. Explore the accuracy and time performance from different numbers of SVD components. (Part 4)\n",
    "3. Visualize the accuracy, time performance and top 5 singular vectors in the dataset, analyze and explain which number of SVD component looks best to you? (Part 4,5&6) Hint: singular vectors should be reshaped to 28x28 images for visualization.\n",
    "***\n",
    "**Note that you may not import any other function or package.** Let's get started!\n"
   ]
  },
  {
   "cell_type": "markdown",
   "id": "b3e10cb3",
   "metadata": {},
   "source": [
    "## Part 1: Load the MNIST dataset and preprocess the data"
   ]
  },
  {
   "cell_type": "code",
   "execution_count": null,
   "id": "79f2d907",
   "metadata": {},
   "outputs": [],
   "source": [
    "import numpy as np\n",
    "import matplotlib.pyplot as plt\n",
    "import time\n",
    "from sklearn.linear_model import LogisticRegression\n",
    "from sklearn.model_selection import train_test_split\n",
    "from sklearn.datasets import fetch_openml\n",
    "from sklearn.metrics import accuracy_score, classification_report\n",
    "\n",
    "# Load MNIST dataset\n",
    "print(\"Loading MNIST dataset...\")\n",
    "mnist = fetch_openml('mnist_784', version=1)\n",
    "X = mnist.data\n",
    "y = mnist.target\n",
    "\n",
    "# Normalize the data\n",
    "X = X / 255.0\n",
    "\n",
    "# Split into training and test sets\n",
    "X_train, X_test, y_train, y_test = train_test_split(X, y, test_size=0.2, random_state=42)\n"
   ]
  },
  {
   "cell_type": "markdown",
   "id": "28b8572d",
   "metadata": {},
   "source": [
    "## Part 2: Implement SVD for Dimensionality Reduction"
   ]
  },
  {
   "cell_type": "code",
   "execution_count": null,
   "id": "b3bd59f3",
   "metadata": {},
   "outputs": [],
   "source": [
    "def apply_svd_custom(X_train, X_test, n_components):\n",
    "  def compute_svd(A):\n",
    "      V = np.dot(A.T, A)\n",
    "      e_values, e_vectors  = np.linalg.eigh(V)\n",
    "      reversed_evals = np.argsort(e_values)[::-1]\n",
    "      e_values = e_values[::-1]\n",
    "      firstZeroIndex = len(e_values) - 1\n",
    "      for i in range(len(e_values)):\n",
    "          if e_values[i] <= 0:\n",
    "              firstZeroIndex = i\n",
    "              break \n",
    "\n",
    "      e_values = e_values[:firstZeroIndex]\n",
    "      reversed_evals = reversed_evals[:firstZeroIndex]\n",
    "      e_vectors = e_vectors[:,reversed_evals]\n",
    "\n",
    "      singular_val = np.sqrt(e_values)\n",
    "      U = np.dot(A,e_vectors)/singular_val\n",
    "      return U, singular_val, e_vectors.T\n",
    "\n",
    "  def reduce(U, S, Vh, n_components):\n",
    "    return np.dot(U[:, :n_components], np.diag(S[:n_components]))\n",
    "\n",
    "  train_U, train_S, train_Vh = compute_svd(X_train.to_numpy())\n",
    "  reduced_X_train = reduce(train_U, train_S, train_Vh, n_components)\n",
    "\n",
    "  test_U, test_S, test_Vh = compute_svd(X_test.to_numpy())\n",
    "  reduced_X_test = reduce(test_U, test_S, test_Vh, n_components)\n",
    "\n",
    "  return reduced_X_train, train_Vh, reduced_X_test, test_Vh"
   ]
  },
  {
   "cell_type": "markdown",
   "id": "eb2a7a9d",
   "metadata": {},
   "source": [
    "## Part 3: Train Logistic Regression and Measure Performance"
   ]
  },
  {
   "cell_type": "code",
   "execution_count": null,
   "id": "dbfc0b10",
   "metadata": {},
   "outputs": [],
   "source": [
    "# Function to train logistic regression and track training time\n",
    "def train_logistic_regression(X_train, y_train, X_test, y_test):\n",
    "    model = LogisticRegression(max_iter=1000, solver='saga', random_state=42, multi_class='multinomial')\n",
    "    \n",
    "    # Measure training time\n",
    "    start_time = time.time()\n",
    "    model.fit(X_train, y_train)\n",
    "    training_time = time.time() - start_time\n",
    "    \n",
    "    y_pred = model.predict(X_test)\n",
    "    accuracy = accuracy_score(y_test, y_pred)\n",
    "    \n",
    "    return accuracy, training_time\n"
   ]
  },
  {
   "cell_type": "markdown",
   "id": "2e557a05",
   "metadata": {},
   "source": [
    "## Part 4: Experiment with Different Levels of SVD\n",
    "\n",
    "Now, apply SVD with varying numbers of components and observe how the dimensionality reduction impacts the model's performance. Record both the accuracy and training time for each number of components.\n"
   ]
  },
  {
   "cell_type": "code",
   "execution_count": null,
   "id": "3a460725",
   "metadata": {},
   "outputs": [],
   "source": [
    "svd_components = [784]  # You need to decide what number to search...\n",
    "\n",
    "# Store the results\n",
    "results = []\n",
    "\n",
    "print(\"Training models with different levels of SVD preprocessing...\")\n",
    "for n_components in svd_components:\n",
    "    print(f\"Applying custom SVD with {n_components} components...\")\n",
    "    # Apply SVD to the training and test sets\n",
    "    # Call apply_svd_custom() here...\n",
    "    X_train_svd, train_Vh, X_test_svd, test_Vh = apply_svd_custom(X_train, X_test, n_components)\n",
    "\n",
    "    # Train the logistic regression model and get accuracy and training time\n",
    "    accuracy, training_time = train_logistic_regression(X_train_svd, y_train, X_test_svd, y_test)\n",
    "    print(f\"SVD components: {n_components}, Accuracy: {accuracy:.4f}, Training time: {training_time:.4f} seconds\")\n",
    "    results.append((n_components, accuracy, training_time))\n",
    "\n",
    "top_5 = X_test_Vh[:5]\n"
   ]
  },
  {
   "cell_type": "markdown",
   "id": "ea7aca12",
   "metadata": {},
   "source": [
    "## Part 5: Visualize and Analyze the Results\n",
    "\n",
    "Finally, plot the accuracy, training time as a function of the number of SVD components, and top 5 singular vectors. This will help you understand the trade-off between dimensionality reduction, accuracy, and model training time, and how SVD generally works. Hint: singular vectors should be reshaped to 28x28 images for visualization.\n"
   ]
  },
  {
   "cell_type": "code",
   "execution_count": null,
   "id": "92ef0497",
   "metadata": {},
   "outputs": [],
   "source": [
    "## Your implementation here...\n",
    "## You may add necessary lines in Part 4 to access data for visualization\n",
    "\n",
    "fig,(accuracy,train_time) = plt.subplots(1,2, figsize(12,5))\n",
    "\n",
    "#Accuracy Graph\n",
    "accuracy.set_title('Tradeoff Between Accuracy and Number of Components')\n",
    "accuracy.set_ylabel('Accuracy')\n",
    "accuracy.set_xlabel('Number of Components')\n",
    "accuracy.plot([item[0] for item in results], [item[1] for item in results])\n",
    "\n",
    "#Training Time Graph \n",
    "train_time.set_title('Tradeoff Between Training Time and Number of Components')\n",
    "train_time.set_ylabel('Training Time')\n",
    "train_time.set_xlabel('Number of Components')\n",
    "train_time.plot([item[0] for item in results], [item[1] for item in results])\n",
    "\n",
    "#Top 5 Singular Vectors\n",
    "for i in range(5):\n",
    "    plt,subplot(1,5,i+1)\n",
    "    plt.imshow(top_5[i].reshape((28,28)),cmap='gray')\n",
    "    plt.title(f'SV{i+1}')\n",
    "    plt.axis('off')\n",
    "plt.show()"
   ]
  },
  {
   "cell_type": "markdown",
   "id": "4210569a",
   "metadata": {},
   "source": [
    "## Part 6: Analyze / Conclusion \n",
    "\n",
    "YOUR ANSWER: "
   ]
  },
  {
   "cell_type": "code",
   "execution_count": null,
   "id": "d47f043c",
   "metadata": {},
   "outputs": [],
   "source": []
  }
 ],
 "metadata": {
  "kernelspec": {
   "display_name": "Python 3 (ipykernel)",
   "language": "python",
   "name": "python3"
  },
  "language_info": {
   "codemirror_mode": {
    "name": "ipython",
    "version": 3
   },
   "file_extension": ".py",
   "mimetype": "text/x-python",
   "name": "python",
   "nbconvert_exporter": "python",
   "pygments_lexer": "ipython3",
   "version": "3.11.4"
  }
 },
 "nbformat": 4,
 "nbformat_minor": 5
}
